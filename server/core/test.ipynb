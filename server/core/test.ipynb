{
 "cells": [
  {
   "cell_type": "code",
   "execution_count": 1,
   "metadata": {},
   "outputs": [],
   "source": [
    "from cuda_nn import FloatTensor, Linear, Pipeline, Relu, MSELoss, SGD, IntPair\n",
    "import matplotlib.pyplot as plt"
   ]
  },
  {
   "cell_type": "code",
   "execution_count": 2,
   "metadata": {},
   "outputs": [
    {
     "name": "stdout",
     "output_type": "stream",
     "text": [
      "Layer\t\tInput\t\tOutput\t\tParameter Count\n",
      "Linear 1:\t\t(1,12)\t\t(1,6)\t\t72\n",
      "relu 1:\t\t(1,6)\t\t(1,6)\t\t0\n",
      "Linear 2:\t\t(1,6)\t\t(1,3)\t\t18\n",
      "relu 2:\t\t(1,3)\t\t(1,3)\t\t0\n",
      "Linear 3:\t\t(1,3)\t\t(1,1)\t\t3\n",
      "relu 3:\t\t(1,1)\t\t(1,1)\t\t0\n",
      "Total Parameter Count:\t93\n"
     ]
    }
   ],
   "source": [
    "dat = FloatTensor.readCSV(\"WineQT.csv\")\n",
    "from cuda_nn import FloatTensor, Linear, Pipeline, Relu, MSELoss, SGD, IntPair\n",
    "\n",
    "# Read the CSV file\n",
    "dat = FloatTensor.readCSV(\"WineQT.csv\")\n",
    "\n",
    "# Normalize the data\n",
    "dat = dat.Normalize()\n",
    "\n",
    "# Split the data into input and output\n",
    "ind = [11]\n",
    "vals = dat.input_output_split(ind)\n",
    "input = vals[0]\n",
    "output = vals[1]\n",
    "\n",
    "# Split the input and output into rows\n",
    "input_list = input.row_split()\n",
    "output_list = output.row_split()\n",
    "\n",
    "# Create the pipeline\n",
    "myPipeline = Pipeline()\n",
    "size = IntPair(1,12)\n",
    "q = Linear(size,6)\n",
    "r = Relu(IntPair(1,6))\n",
    "d = Linear(IntPair(1,6),3)\n",
    "e = Relu(IntPair(1,3))\n",
    "f = Linear(IntPair(1,3),1)\n",
    "g = Relu(IntPair(1,1))\n",
    "# Add the layers to the pipeline\n",
    "myPipeline.add(q)\n",
    "myPipeline.add(r)\n",
    "myPipeline.add(d)\n",
    "myPipeline.add(e)\n",
    "myPipeline.add(f)\n",
    "myPipeline.add(g)\n",
    "\n",
    "# Print the pipeline\n",
    "myPipeline.printPipeline()\n",
    "\n",
    "# Create the optimizer\n",
    "optimizer = SGD(1e-4)\n",
    "\n",
    "a = MSELoss()"
   ]
  },
  {
   "cell_type": "code",
   "execution_count": 3,
   "metadata": {},
   "outputs": [
    {
     "name": "stdout",
     "output_type": "stream",
     "text": [
      "Epoch 1, Loss: 1.1398779153823853\n",
      "Epoch 2, Loss: 0.6061683893203735\n",
      "Epoch 3, Loss: 0.4146265983581543\n",
      "Epoch 4, Loss: 0.31484219431877136\n",
      "Epoch 5, Loss: 0.25325673818588257\n",
      "Epoch 6, Loss: 0.21130947768688202\n",
      "Epoch 7, Loss: 0.18082602322101593\n",
      "Epoch 8, Loss: 0.15762744843959808\n",
      "Epoch 9, Loss: 0.13935692608356476\n",
      "Epoch 10, Loss: 0.12457526475191116\n",
      "Epoch 11, Loss: 0.11235839128494263\n",
      "Epoch 12, Loss: 0.10208302736282349\n",
      "Epoch 13, Loss: 0.09331116825342178\n",
      "Epoch 14, Loss: 0.0857299417257309\n",
      "Epoch 15, Loss: 0.0791068747639656\n",
      "Epoch 16, Loss: 0.07326845824718475\n",
      "Epoch 17, Loss: 0.06807857006788254\n",
      "Epoch 18, Loss: 0.06343105435371399\n",
      "Epoch 19, Loss: 0.05924341827630997\n",
      "Epoch 20, Loss: 0.055447593331336975\n",
      "Epoch 21, Loss: 0.05198908969759941\n",
      "Epoch 22, Loss: 0.04882284253835678\n",
      "Epoch 23, Loss: 0.04591146484017372\n",
      "Epoch 24, Loss: 0.04322420060634613\n",
      "Epoch 25, Loss: 0.04073452949523926\n",
      "Epoch 26, Loss: 0.038420792669057846\n",
      "Epoch 27, Loss: 0.03626300022006035\n",
      "Epoch 28, Loss: 0.03424578905105591\n",
      "Epoch 29, Loss: 0.03235363960266113\n",
      "Epoch 30, Loss: 0.03057534247636795\n",
      "Epoch 31, Loss: 0.02890058234333992\n",
      "Epoch 32, Loss: 0.027319571003317833\n",
      "Epoch 33, Loss: 0.025824563577771187\n",
      "Epoch 34, Loss: 0.024407701566815376\n",
      "Epoch 35, Loss: 0.02306278981268406\n",
      "Epoch 36, Loss: 0.021784676238894463\n",
      "Epoch 37, Loss: 0.0205680001527071\n",
      "Epoch 38, Loss: 0.019408248364925385\n",
      "Epoch 39, Loss: 0.018302028998732567\n",
      "Epoch 40, Loss: 0.017244746908545494\n",
      "Epoch 41, Loss: 0.016234226524829865\n",
      "Epoch 42, Loss: 0.015267363749444485\n",
      "Epoch 43, Loss: 0.014341716654598713\n",
      "Epoch 44, Loss: 0.013454941101372242\n",
      "Epoch 45, Loss: 0.01260482706129551\n",
      "Epoch 46, Loss: 0.011789621785283089\n",
      "Epoch 47, Loss: 0.011008469387888908\n",
      "Epoch 48, Loss: 0.010258786380290985\n",
      "Epoch 49, Loss: 0.009539729915559292\n",
      "Epoch 50, Loss: 0.00885062012821436\n",
      "Epoch 51, Loss: 0.008190244436264038\n",
      "Epoch 52, Loss: 0.007557613775134087\n",
      "Epoch 53, Loss: 0.006951521150767803\n",
      "Epoch 54, Loss: 0.006372061558067799\n",
      "Epoch 55, Loss: 0.005818597041070461\n",
      "Epoch 56, Loss: 0.0052905031479895115\n",
      "Epoch 57, Loss: 0.00478735426440835\n",
      "Epoch 58, Loss: 0.004309032578021288\n",
      "Epoch 59, Loss: 0.003855387680232525\n",
      "Epoch 60, Loss: 0.0034258728846907616\n",
      "Epoch 61, Loss: 0.0030208684038370848\n",
      "Epoch 62, Loss: 0.0026402543298900127\n",
      "Epoch 63, Loss: 0.0022838718723505735\n",
      "Epoch 64, Loss: 0.0019521730719134212\n",
      "Epoch 65, Loss: 0.0016452858690172434\n",
      "Epoch 66, Loss: 0.001363283023238182\n",
      "Epoch 67, Loss: 0.0011065499857068062\n",
      "Epoch 68, Loss: 0.0008753676665946841\n",
      "Epoch 69, Loss: 0.0006701759994029999\n",
      "Epoch 70, Loss: 0.00049124367069453\n",
      "Epoch 71, Loss: 0.0003392441140022129\n",
      "Epoch 72, Loss: 0.00021456711692735553\n",
      "Epoch 73, Loss: 0.00011777644976973534\n",
      "Epoch 74, Loss: 4.942523446516134e-05\n",
      "Epoch 75, Loss: 1.0122999810846522e-05\n",
      "Epoch 76, Loss: 4.851262929150835e-07\n",
      "Epoch 77, Loss: 2.1185674995649606e-05\n",
      "Epoch 78, Loss: 7.289960922207683e-05\n",
      "Epoch 79, Loss: 0.00015635030285920948\n",
      "Epoch 80, Loss: 0.00027227052487432957\n",
      "Epoch 81, Loss: 0.00042133103124797344\n",
      "Epoch 82, Loss: 0.0006043772445991635\n",
      "Epoch 83, Loss: 0.0008220636518672109\n",
      "Epoch 84, Loss: 0.0010751590598374605\n",
      "Epoch 85, Loss: 0.0013645245926454663\n",
      "Epoch 86, Loss: 0.0016909101977944374\n",
      "Epoch 87, Loss: 0.0020552941132336855\n",
      "Epoch 88, Loss: 0.002458070870488882\n",
      "Epoch 89, Loss: 0.002900040242820978\n",
      "Epoch 90, Loss: 0.003381983144208789\n",
      "Epoch 91, Loss: 0.0039047414902597666\n",
      "Epoch 92, Loss: 0.004468453116714954\n",
      "Epoch 93, Loss: 0.005074077285826206\n",
      "Epoch 94, Loss: 0.00572214787825942\n",
      "Epoch 95, Loss: 0.00641358969733119\n",
      "Epoch 96, Loss: 0.007148751989006996\n",
      "Epoch 97, Loss: 0.007927773520350456\n",
      "Epoch 98, Loss: 0.008751178160309792\n",
      "Epoch 99, Loss: 0.009619325399398804\n",
      "Epoch 100, Loss: 0.010532700456678867\n"
     ]
    }
   ],
   "source": [
    "losses = []\n",
    "# Train the model\n",
    "for j in range(1000):\n",
    "    for i in range(len(input_list)):\n",
    "        prediction = myPipeline.forwardFloat(input_list[i])\n",
    "\n",
    "        loss = (a.loss(prediction, output_list[i]))\n",
    "\n",
    "        myPipeline.backward(optimizer, a, output_list[i])\n",
    "    print(f\"Epoch {j+1}, Loss: {loss}\")\n",
    "    losses.append(loss)"
   ]
  },
  {
   "cell_type": "code",
   "execution_count": 4,
   "metadata": {},
   "outputs": [
    {
     "data": {
      "text/plain": [
       "[<matplotlib.lines.Line2D at 0x7bbad9081570>]"
      ]
     },
     "execution_count": 4,
     "metadata": {},
     "output_type": "execute_result"
    },
    {
     "data": {
      "image/png": "[encoded data removed]",
      "text/plain": [
       "<Figure size 640x480 with 1 Axes>"
      ]
     },
     "metadata": {},
     "output_type": "display_data"
    }
   ],
   "source": [
    "plt.plot(losses)"
   ]
  },
  {
   "cell_type": "code",
   "execution_count": null,
   "metadata": {},
   "outputs": [],
   "source": []
  }
 ],
 "metadata": {
  "kernelspec": {
   "display_name": "Python 3",
   "language": "python",
   "name": "python3"
  },
  "language_info": {
   "codemirror_mode": {
    "name": "ipython",
    "version": 3
   },
   "file_extension": ".py",
   "mimetype": "text/x-python",
   "name": "python",
   "nbconvert_exporter": "python",
   "pygments_lexer": "ipython3",
   "version": "3.10.12"
  }
 },
 "nbformat": 4,
 "nbformat_minor": 2
}
